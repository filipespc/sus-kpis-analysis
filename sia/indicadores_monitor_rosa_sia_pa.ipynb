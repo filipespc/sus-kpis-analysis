{
  "nbformat": 4,
  "nbformat_minor": 0,
  "metadata": {
    "colab": {
      "name": "indicadores-monitor-rosa-sia-pa.ipynb",
      "provenance": [],
      "collapsed_sections": [],
      "mount_file_id": "16ZLzDQodEXJ1mzubGLki4jHmTsMOy48Y",
      "authorship_tag": "ABX9TyM/D2FjH+1osBZQ/+ch4p6k",
      "include_colab_link": true
    },
    "kernelspec": {
      "display_name": "Python 3",
      "name": "python3"
    },
    "language_info": {
      "name": "python"
    }
  },
  "cells": [
    {
      "cell_type": "markdown",
      "metadata": {
        "id": "view-in-github",
        "colab_type": "text"
      },
      "source": [
        "<a href=\"https://colab.research.google.com/github/heber-augusto/sus-kpis-analysis/blob/main/sia/indicadores_monitor_rosa_sia_pa.ipynb\" target=\"_parent\"><img src=\"https://colab.research.google.com/assets/colab-badge.svg\" alt=\"Open In Colab\"/></a>"
      ]
    },
    {
      "cell_type": "markdown",
      "source": [
        "# Apresentação\n",
        "Este notebook foi desenolvido como parte do projeto Monitor Rosa, um conjunto de ferramentas, softwares e outros artefatos cujo principal objetivo é melhorar o cenário de diagnósticos de câncer de mama no Brasil, idealmente melhorando diminuindo a proporção de diagnósticos tardios/diagnósticos precoces.\n",
        "\n",
        "Os arquivos utilizados neste notebook foram coletados através dos scripts presentes [neste repositório](https://github.com/heber-augusto/devops-pysus-get-files). Os arquios foram armazenados em um bucket do Google Storage no formato parquet compactados (gzip)."
      ],
      "metadata": {
        "id": "42vplD1qX8C8"
      }
    },
    {
      "cell_type": "markdown",
      "source": [
        "# Instalação de bibliotecas e pacotes para leitura de arquivos"
      ],
      "metadata": {
        "id": "lISPGKlqZNL6"
      }
    },
    {
      "cell_type": "markdown",
      "metadata": {
        "id": "ynk2zJ0I-QOR"
      },
      "source": [
        "## Configurações iniciais para conectar com bucket no Google Storage\n",
        " - Autenticação do Google Colab\n",
        " - Definição do nome do projeto\n",
        "\n",
        " Para a execução dos comandos desta seção, o arquio gcp-leitura.json deve ser inserido na raiz do colab."
      ]
    },
    {
      "cell_type": "code",
      "metadata": {
        "colab": {
          "base_uri": "https://localhost:8080/"
        },
        "id": "1TftIJsK9M7-",
        "outputId": "57bc3e58-12d3-47ce-96e4-e5723ace7b18"
      },
      "source": [
        "from google.colab import auth\n",
        "auth.authenticate_user()\n",
        "\n",
        "# id do projeto\n",
        "project_id = 'teak-ellipse-317015'\n",
        "# id do bucket dentro do projeto\n",
        "bucket_id = 'observatorio-oncologia'\n",
        "\n",
        "# nome da pasta local para mapear\n",
        "local_folder_name = 'colab'\n",
        "\n",
        "# nome da pasta do projeto\n",
        "project_folder_name = 'monitor'\n",
        "\n",
        "!gcloud config set project {project_id}"
      ],
      "execution_count": 2,
      "outputs": [
        {
          "output_type": "stream",
          "name": "stdout",
          "text": [
            "Updated property [core/project].\n"
          ]
        }
      ]
    },
    {
      "cell_type": "markdown",
      "metadata": {
        "id": "2_B13GvM-Xtm"
      },
      "source": [
        "## Instalação para garantir montagem da pasta no bucket\n",
        "Instalação do gcsfuse para mapear pasta do bucket no google colab"
      ]
    },
    {
      "cell_type": "code",
      "metadata": {
        "colab": {
          "base_uri": "https://localhost:8080/"
        },
        "id": "XVpbrf9T-cUT",
        "outputId": "bf8cfb5d-9846-43b9-9649-10aeb7515613"
      },
      "source": [
        "!echo \"deb http://packages.cloud.google.com/apt gcsfuse-bionic main\" > /etc/apt/sources.list.d/gcsfuse.list\n",
        "!curl https://packages.cloud.google.com/apt/doc/apt-key.gpg | apt-key add -\n",
        "!apt -qq update\n",
        "!apt -qq install gcsfuse"
      ],
      "execution_count": 3,
      "outputs": [
        {
          "output_type": "stream",
          "name": "stdout",
          "text": [
            "  % Total    % Received % Xferd  Average Speed   Time    Time     Time  Current\n",
            "                                 Dload  Upload   Total   Spent    Left  Speed\n",
            "\r  0     0    0     0    0     0      0      0 --:--:-- --:--:-- --:--:--     0\r100  2537  100  2537    0     0  84566      0 --:--:-- --:--:-- --:--:-- 84566\n",
            "OK\n",
            "73 packages can be upgraded. Run 'apt list --upgradable' to see them.\n",
            "The following package was automatically installed and is no longer required:\n",
            "  libnvidia-common-460\n",
            "Use 'apt autoremove' to remove it.\n",
            "The following NEW packages will be installed:\n",
            "  gcsfuse\n",
            "0 upgraded, 1 newly installed, 0 to remove and 73 not upgraded.\n",
            "Need to get 11.6 MB of archives.\n",
            "After this operation, 27.4 MB of additional disk space will be used.\n",
            "Selecting previously unselected package gcsfuse.\n",
            "(Reading database ... 155653 files and directories currently installed.)\n",
            "Preparing to unpack .../gcsfuse_0.41.4_amd64.deb ...\n",
            "Unpacking gcsfuse (0.41.4) ...\n",
            "Setting up gcsfuse (0.41.4) ...\n"
          ]
        }
      ]
    },
    {
      "cell_type": "markdown",
      "source": [
        "## Nome/caminho do arquivo json contendo credenciais de acesso ao storage do Google"
      ],
      "metadata": {
        "id": "Leik8iOrceAZ"
      }
    },
    {
      "cell_type": "code",
      "source": [
        "serice_account_json = '/content/gcp-leitura.json'"
      ],
      "metadata": {
        "id": "Xm0oBdhVI47r"
      },
      "execution_count": 4,
      "outputs": []
    },
    {
      "cell_type": "markdown",
      "metadata": {
        "id": "1dhsmK5a_Gek"
      },
      "source": [
        "## Montagem do bucket em uma pasta local do google colab"
      ]
    },
    {
      "cell_type": "code",
      "metadata": {
        "colab": {
          "base_uri": "https://localhost:8080/"
        },
        "id": "WUF134Mt-y4d",
        "outputId": "d55efabc-9348-4314-fb77-a3c0ecc544e1"
      },
      "source": [
        "!mkdir {local_folder_name}\n",
        "!gcsfuse --key-file {serice_account_json} --implicit-dirs {bucket_id} {local_folder_name}"
      ],
      "execution_count": 5,
      "outputs": [
        {
          "output_type": "stream",
          "name": "stdout",
          "text": [
            "2022/07/29 11:11:45.956840 Start gcsfuse/0.41.4 (Go version go1.17.6) for app \"\" using mount point: /content/colab\n",
            "2022/07/29 11:11:45.971617 Opening GCS connection...\n",
            "2022/07/29 11:11:46.363059 Mounting file system \"observatorio-oncologia\"...\n",
            "2022/07/29 11:11:46.398408 File system has been successfully mounted.\n"
          ]
        }
      ]
    },
    {
      "cell_type": "markdown",
      "source": [
        "## Função para facilitar coleta de arquivo"
      ],
      "metadata": {
        "id": "CeYSqEhKcwDC"
      }
    },
    {
      "cell_type": "code",
      "source": [
        "import glob\n",
        "import os\n",
        "\n",
        "def get_files(state, year, month, file_type, file_group):\n",
        "    initial_path = os.path.join(r'/content/',local_folder_name,project_folder_name)\n",
        "    internal_folder = f\"\"\"{state}/{year}/{month}/{file_type}/{file_group}\"\"\"\n",
        "    # print(f\"{initial_path}/{internal_folder}/*.parquet.gzip\")\n",
        "    return glob.glob(f\"{initial_path}/{internal_folder}/*.parquet.gzip\")    "
      ],
      "metadata": {
        "id": "rRWGqdIUY7nr"
      },
      "execution_count": 6,
      "outputs": []
    },
    {
      "cell_type": "markdown",
      "source": [
        "# SIA PA, AQ e AR: Leitura, filtro e transformação inicial dos arquivos"
      ],
      "metadata": {
        "id": "pHS-5WCngIHY"
      }
    },
    {
      "cell_type": "markdown",
      "source": [
        "## Informações sobre filtros pertinentes ao contexto de câncer de mama:\n",
        "\n",
        "### SIH: realizar filtro através da variável DIAG_PRINC (4 caracteres)\n",
        " * Filtro: C500, C501, C502, C503, C504, C505, C506, C508 e C509\n",
        "\n",
        "### RHC: realizar filtro através da variável LOCTUDET (3 caracteres)\n",
        " * Filtro: C50\n",
        "\n",
        "### SIA – APAC de Quimioterapia e Radioterapia (AQ e AR)\n",
        "Realizar filtro através da variável AP_CIDPRI (4 caracteres)\n",
        " * Filtro: C500, C501, C502, C503, C504, C505, C506, C508 e C509\n",
        "\n",
        "### SIA – Procedimentos ambulatoriais (PA)\n",
        "\n",
        "Os arquivos de procedimentos ambulatoriais são um pouco diferentes por um motivo: a pessoa já pode ter o diagnóstico e está realizando um procedimento OU a pessoa está realizando um exame com finalidade diagnóstica (mamografia, ultrassonografia, etc). Então, neste caso, podemos pensar em dois filtros:\n",
        "\n",
        "Realizar filtro através da variável PA_CIDPRI (4 caracteres)\n",
        " * Filtro: C500, C501, C502, C503, C504, C505, C506, C508 e C509\n",
        "\n",
        "Realizar filtro através da variável do código de procedimento ambulatorial “PA_PROC_ID” (10 caracteres)\n",
        " * Filtros:\n",
        "  * 201010569\tBIOPSIA/EXERESE DE NÓDULO DE MAMA\n",
        "  * 201010585\tPUNÇÃO ASPIRATIVA DE MAMA POR AGULHA FINA\n",
        "  * 201010607\tPUNÇÃO DE MAMA POR AGULHA GROSSA\n",
        "  * 203010035\tEXAME DE CITOLOGIA (EXCETO CERVICO-VAGINAL E DE MAMA)\n",
        "  * 203010043\tEXAME CITOPATOLOGICO DE MAMA\n",
        "  * 203020065\tEXAME ANATOMOPATOLOGICO DE MAMA - BIOPSIA\n",
        "  * 203020073\tEXAME ANATOMOPATOLOGICO DE MAMA - PECA CIRURGICA\n",
        "  * 205020097\tULTRASSONOGRAFIA MAMARIA BILATERAL\n",
        "  * 208090037\tCINTILOGRAFIA DE MAMA (BILATERAL)\n",
        "  * 204030030\tMAMOGRAFIA\n",
        "  * 204030188\tMAMOGRAFIA BILATERAL PARA RASTREAMENTO"
      ],
      "metadata": {
        "id": "XA0TpF6Gc3u9"
      }
    },
    {
      "cell_type": "markdown",
      "source": [
        "## Bibliotecas utilizadas na análise exploratória"
      ],
      "metadata": {
        "id": "c07ydk4ag432"
      }
    },
    {
      "cell_type": "code",
      "source": [
        "import pandas as pd\n",
        "import numpy as np "
      ],
      "metadata": {
        "id": "mUmzW3NXg-z1"
      },
      "execution_count": 7,
      "outputs": []
    },
    {
      "cell_type": "markdown",
      "source": [
        "## Variáveis de filtro"
      ],
      "metadata": {
        "id": "rN4lZn1reIaN"
      }
    },
    {
      "cell_type": "code",
      "source": [
        "# filtro pelo cid\n",
        "cid_filter = ['C500', 'C501', 'C502', 'C503', 'C504', 'C505', 'C506', 'C508', 'C509']\n",
        "\n",
        "# dicionario de procedimentos\n",
        "proc_id_dict = {\n",
        "    '0201010569': 'BIOPSIA/EXERESE DE NÓDULO DE MAMA',\n",
        "    '0201010585': 'PUNÇÃO ASPIRATIVA DE MAMA POR AGULHA FINA',\n",
        "    '0201010607': 'PUNÇÃO DE MAMA POR AGULHA GROSSA',\n",
        "    '0203010035': 'EXAME DE CITOLOGIA (EXCETO CERVICO-VAGINAL E DE MAMA)',\n",
        "    '0203010043': 'EXAME CITOPATOLOGICO DE MAMA',\n",
        "    '0203020065': 'EXAME ANATOMOPATOLOGICO DE MAMA - BIOPSIA',\n",
        "    '0203020073': 'EXAME ANATOMOPATOLOGICO DE MAMA - PECA CIRURGICA',\n",
        "    '0205020097': 'ULTRASSONOGRAFIA MAMARIA BILATERAL',\n",
        "    '0208090037': 'CINTILOGRAFIA DE MAMA (BILATERAL)',\n",
        "    '0204030030': 'MAMOGRAFIA',\n",
        "    '0204030188': 'MAMOGRAFIA BILATERAL PARA RASTREAMENTO'\n",
        "    }\n",
        "proc_id_filter = list(proc_id_dict.keys())\n"
      ],
      "metadata": {
        "id": "Pl1XPDBheHFR"
      },
      "execution_count": 8,
      "outputs": []
    },
    {
      "cell_type": "markdown",
      "source": [
        "## Funções de filtro para arquivo SIA PA, AQ e AR"
      ],
      "metadata": {
        "id": "lPnM16Mngb_o"
      }
    },
    {
      "cell_type": "code",
      "source": [
        "def filter_pa_content(df):\n",
        "    \"\"\"\n",
        "\n",
        "    \"\"\"\n",
        "    return df[df.PA_CIDPRI.isin(cid_filter) & \\\n",
        "              df.PA_PROC_ID.isin(proc_id_filter)]\n",
        "\n",
        "def filter_ar_content(df):\n",
        "    \"\"\"\n",
        "\n",
        "    \"\"\"\n",
        "    return df[df.AP_CIDPRI.isin(cid_filter)]\n",
        "\n",
        "filter_aq_content = filter_ar_content\n"
      ],
      "metadata": {
        "id": "DuP3uqOXgbhf"
      },
      "execution_count": 9,
      "outputs": []
    },
    {
      "cell_type": "markdown",
      "source": [
        "## Função para unir diversos arquivos em um único datraframe"
      ],
      "metadata": {
        "id": "jTa2XLlwq-li"
      }
    },
    {
      "cell_type": "code",
      "source": [
        "def create_cancer_dataframe(file_paths, filter_function=filter_pa_content):\n",
        "    \"\"\"\n",
        "\n",
        "    \"\"\"\n",
        "    filtered_contents = [\n",
        "      filter_function(pd.read_parquet(file_path))\n",
        "      for file_path in file_paths\n",
        "      ]\n",
        "\n",
        "    return pd.concat(\n",
        "        filtered_contents, \n",
        "        ignore_index=True)\n",
        "\n"
      ],
      "metadata": {
        "id": "rJVR5ROurGdl"
      },
      "execution_count": 10,
      "outputs": []
    },
    {
      "cell_type": "markdown",
      "source": [
        "## Função para retornar lista de arquivos (caminho completo)"
      ],
      "metadata": {
        "id": "orR1zHsZxz6T"
      }
    },
    {
      "cell_type": "code",
      "source": [
        "def get_file_paths(states, years, months, file_type, file_group):\n",
        "    \"\"\"\n",
        "\n",
        "    \"\"\"\n",
        "    file_paths = []\n",
        "    for state in states:\n",
        "        for year in years:\n",
        "            for month in months:\n",
        "                file_paths.extend(\n",
        "                    get_files(\n",
        "                        state,\n",
        "                        year,\n",
        "                        month,\n",
        "                        file_type,\n",
        "                        file_group)\n",
        "                )\n",
        "    return file_paths"
      ],
      "metadata": {
        "id": "vIFCMszCx0EZ"
      },
      "execution_count": 11,
      "outputs": []
    },
    {
      "cell_type": "markdown",
      "source": [
        "## SIA PA: Leitura e união de dados para o período desejado\n",
        "\n",
        "\n"
      ],
      "metadata": {
        "id": "6S-hjI9udMtM"
      }
    },
    {
      "cell_type": "markdown",
      "source": [
        "### Estado, anos e meses a serem lidos e processados"
      ],
      "metadata": {
        "id": "9ar53dWEh4yM"
      }
    },
    {
      "cell_type": "code",
      "source": [
        "states = ['SP',]\n",
        "years  = ['2020','2021']\n",
        "months = [f'{month + 1:02d}' for month in range(12)]\n",
        "file_type = 'SIA'"
      ],
      "metadata": {
        "id": "LKXSGWB2tHkH"
      },
      "execution_count": 12,
      "outputs": []
    },
    {
      "cell_type": "markdown",
      "source": [
        "### Monta lista de arquivos a serem lidos"
      ],
      "metadata": {
        "id": "7gNtCfyIt05w"
      }
    },
    {
      "cell_type": "code",
      "source": [
        "file_paths_by_type = {}\n",
        "\n",
        "# Arquivos de produção ambulatorial\n",
        "file_paths_by_type['PA'] = get_file_paths(\n",
        "    states,\n",
        "    years,\n",
        "    months,\n",
        "    file_type,\n",
        "    'PA'\n",
        ")\n",
        "\n",
        "# Arquivos de radioterapia\n",
        "file_paths_by_type['AR'] = get_file_paths(\n",
        "    states,\n",
        "    years,\n",
        "    months,\n",
        "    file_type,\n",
        "    'AR'\n",
        ")\n",
        "\n",
        "# Arquivos de quimioteraia\n",
        "file_paths_by_type['AQ'] = get_file_paths(\n",
        "    states,\n",
        "    years,\n",
        "    months,\n",
        "    file_type,\n",
        "    'AQ'\n",
        ")"
      ],
      "metadata": {
        "id": "NNoipA4fO1rH"
      },
      "execution_count": 13,
      "outputs": []
    },
    {
      "cell_type": "code",
      "source": [
        "print(f\"\"\"Identificados {len(file_paths_by_type['PA'])} arquivos de produção ambulatorial\"\"\")\n",
        "print(f\"\"\"Identificados {len(file_paths_by_type['AR'])} arquivos de radioterapia\"\"\")\n",
        "print(f\"\"\"Identificados {len(file_paths_by_type['AQ'])} arquivos de quimioterapia\"\"\")"
      ],
      "metadata": {
        "colab": {
          "base_uri": "https://localhost:8080/"
        },
        "id": "YSTDQAA_uPBb",
        "outputId": "ba73160b-4737-4781-96eb-d833cf5ae414"
      },
      "execution_count": 14,
      "outputs": [
        {
          "output_type": "stream",
          "name": "stdout",
          "text": [
            "Identificados 72 arquivos de produção ambulatorial\n",
            "Identificados 24 arquivos de radioterapia\n",
            "Identificados 24 arquivos de radioterapia\n"
          ]
        }
      ]
    },
    {
      "cell_type": "markdown",
      "source": [
        "## Cria um único dataframe a partir dos conteúdos filtrados"
      ],
      "metadata": {
        "id": "dxCXJKY4rlJD"
      }
    },
    {
      "cell_type": "code",
      "metadata": {
        "id": "G25snj6ghnwl"
      },
      "source": [
        "cancer_dataframe_pa = create_cancer_dataframe(file_paths_by_type['PA'], filter_function=filter_pa_content)\n",
        "cancer_dataframe_aq = create_cancer_dataframe(file_paths_by_type['AQ'], filter_function=filter_ar_content)\n",
        "cancer_dataframe_ar = create_cancer_dataframe(file_paths_by_type['AR'], filter_function=filter_aq_content)"
      ],
      "execution_count": null,
      "outputs": []
    },
    {
      "cell_type": "markdown",
      "source": [
        "## Dataframe de PA"
      ],
      "metadata": {
        "id": "xtE2jR5e1yOA"
      }
    },
    {
      "cell_type": "code",
      "source": [
        "cancer_dataframe_pa"
      ],
      "metadata": {
        "id": "wAIWTqOUjQNh"
      },
      "execution_count": null,
      "outputs": []
    },
    {
      "cell_type": "code",
      "source": [
        "cancer_dataframe_pa.info()"
      ],
      "metadata": {
        "id": "Q-mVYp8V8Frt"
      },
      "execution_count": null,
      "outputs": []
    },
    {
      "cell_type": "markdown",
      "source": [
        "## Dataframe de AQ"
      ],
      "metadata": {
        "id": "Skju7MOR12W2"
      }
    },
    {
      "cell_type": "code",
      "source": [
        "cancer_dataframe_aq"
      ],
      "metadata": {
        "id": "-V-qOam9nAkJ"
      },
      "execution_count": null,
      "outputs": []
    },
    {
      "cell_type": "code",
      "source": [
        "cancer_dataframe_aq.info()"
      ],
      "metadata": {
        "id": "BMCZaZ9i8Cfq"
      },
      "execution_count": null,
      "outputs": []
    },
    {
      "cell_type": "markdown",
      "source": [
        "## Dataframe de AR"
      ],
      "metadata": {
        "id": "7COBEk9H13_v"
      }
    },
    {
      "cell_type": "code",
      "source": [
        "cancer_dataframe_ar"
      ],
      "metadata": {
        "id": "o55J67n00xNu"
      },
      "execution_count": null,
      "outputs": []
    },
    {
      "cell_type": "code",
      "source": [
        "cancer_dataframe_ar.info()"
      ],
      "metadata": {
        "id": "EkPfAnMu3MTx"
      },
      "execution_count": null,
      "outputs": []
    },
    {
      "cell_type": "markdown",
      "source": [
        "# Montagem do dataset de Exames de Paciente (1 linha por paciente)\n",
        "\n",
        "Colunas:\n",
        "\n",
        " - Chave da paciente (cns_encrypted)\n",
        " - Custo total do tratamento\n",
        " - Estadiamento inicial\n",
        " - Estadiamento final\n",
        " - Indicação de óbito\n",
        " - Localização de moradia\n",
        "\n",
        "## Proposta de solução:\n",
        "\n",
        " - Tipos de arquivos a serem utilizados: AQ e AR\n",
        " - chave do paciente:\n",
        "  - AQ: coluna AP_CNSPCN\n",
        "  - AR: coluna AP_CNSPCN  \n",
        " - custo total do tratamento: será uma estimativa considerando apenas radioterapia e quimioterapia, calculado somando os valores dos procedimentos (presentes em AR e AQ), para cada chave de paciente. Sendo:\n",
        "   - custos em AQ: soma de AP_VL_AP;\n",
        "   - custos em AR: soma de AP_VL_AP.\n",
        " - Estadiamento inicial: calculado utilizando o valor do estadiamento (presentes em AQ:AQ_ESTADI e AR:AR_ESTADI) do registro mais antigo de radioterapia ou quimioterapia, de um determinado paciente;\n",
        " - Estadiamento final: calculado utilizando o valor do estadiamento (presentes em AQ:AQ_ESTADI e AR:AR_ESTADI) do registro mais recente de radioterapia ou quimioterapia, de um determinado paciente;\n",
        " - Localização de moradia: utilizar coluna AP_MUNPCN (presentes em AR e AQ). Talvez criar dois campos, AP_MUNPCN presente no registro mais antigo e AP_MUNPCN presente no registro mais novo"
      ],
      "metadata": {
        "id": "N9Kzt8iI24Iw"
      }
    },
    {
      "cell_type": "code",
      "source": [
        ""
      ],
      "metadata": {
        "id": "IhysYSyd1TWv"
      },
      "execution_count": null,
      "outputs": []
    }
  ]
}