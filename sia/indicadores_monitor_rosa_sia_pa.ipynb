{
  "nbformat": 4,
  "nbformat_minor": 0,
  "metadata": {
    "colab": {
      "name": "indicadores-monitor-rosa-sia-pa.ipynb",
      "provenance": [],
      "collapsed_sections": [],
      "mount_file_id": "16ZLzDQodEXJ1mzubGLki4jHmTsMOy48Y",
      "authorship_tag": "ABX9TyMKNC/pfAqgeeQu19ouv7LM",
      "include_colab_link": true
    },
    "kernelspec": {
      "display_name": "Python 3",
      "name": "python3"
    },
    "language_info": {
      "name": "python"
    }
  },
  "cells": [
    {
      "cell_type": "markdown",
      "metadata": {
        "id": "view-in-github",
        "colab_type": "text"
      },
      "source": [
        "<a href=\"https://colab.research.google.com/github/heber-augusto/sus-kpis-analysis/blob/main/sia/indicadores_monitor_rosa_sia_pa.ipynb\" target=\"_parent\"><img src=\"https://colab.research.google.com/assets/colab-badge.svg\" alt=\"Open In Colab\"/></a>"
      ]
    },
    {
      "cell_type": "markdown",
      "source": [
        "# Apresentação\n",
        "Este notebook foi desenolvido como parte do projeto Monitor Rosa, um conjunto de ferramentas, softwares e outros artefatos cujo principal objetivo é melhorar o cenário de diagnósticos de câncer de mama no Brasil, idealmente melhorando diminuindo a proporção de diagnósticos tardios/diagnósticos precoces.\n",
        "\n",
        "Os arquivos utilizados neste notebook foram coletados através dos scripts presentes [neste repositório](https://github.com/heber-augusto/devops-pysus-get-files). Os arquios foram armazenados em um bucket do Google Storage no formato parquet compactados (gzip)."
      ],
      "metadata": {
        "id": "42vplD1qX8C8"
      }
    },
    {
      "cell_type": "markdown",
      "source": [
        "# Instalação de bibliotecas e pacotes para leitura de arquivos"
      ],
      "metadata": {
        "id": "lISPGKlqZNL6"
      }
    },
    {
      "cell_type": "markdown",
      "metadata": {
        "id": "ynk2zJ0I-QOR"
      },
      "source": [
        "## Configurações iniciais para conectar com bucket no Google Storage\n",
        " - Autenticação do Google Colab\n",
        " - Definição do nome do projeto\n",
        "\n",
        " Para a execução dos comandos desta seção, o arquio gcp-leitura.json deve ser inserido na raiz do colab."
      ]
    },
    {
      "cell_type": "code",
      "metadata": {
        "colab": {
          "base_uri": "https://localhost:8080/"
        },
        "id": "1TftIJsK9M7-",
        "outputId": "ea76e538-6b16-4281-e2c7-0f368bb8bed8"
      },
      "source": [
        "from google.colab import auth\n",
        "auth.authenticate_user()\n",
        "\n",
        "# id do projeto\n",
        "project_id = 'teak-ellipse-317015'\n",
        "# id do bucket dentro do projeto\n",
        "bucket_id = 'observatorio-oncologia'\n",
        "\n",
        "# nome da pasta local para mapear\n",
        "local_folder_name = 'colab'\n",
        "\n",
        "# nome da pasta do projeto\n",
        "project_folder_name = 'monitor'\n",
        "\n",
        "!gcloud config set project {project_id}"
      ],
      "execution_count": 1,
      "outputs": [
        {
          "output_type": "stream",
          "name": "stdout",
          "text": [
            "Updated property [core/project].\n",
            "\n",
            "\n",
            "To take a quick anonymous survey, run:\n",
            "  $ gcloud survey\n",
            "\n"
          ]
        }
      ]
    },
    {
      "cell_type": "markdown",
      "metadata": {
        "id": "2_B13GvM-Xtm"
      },
      "source": [
        "## Instalação para garantir montagem da pasta no bucket\n",
        "Instalação do gcsfuse para mapear pasta do bucket no google colab"
      ]
    },
    {
      "cell_type": "code",
      "metadata": {
        "colab": {
          "base_uri": "https://localhost:8080/"
        },
        "id": "XVpbrf9T-cUT",
        "outputId": "fe98b816-45bc-4373-c2c2-9c79404467e8"
      },
      "source": [
        "!echo \"deb http://packages.cloud.google.com/apt gcsfuse-bionic main\" > /etc/apt/sources.list.d/gcsfuse.list\n",
        "!curl https://packages.cloud.google.com/apt/doc/apt-key.gpg | apt-key add -\n",
        "!apt -qq update\n",
        "!apt -qq install gcsfuse"
      ],
      "execution_count": 2,
      "outputs": [
        {
          "output_type": "stream",
          "name": "stdout",
          "text": [
            "  % Total    % Received % Xferd  Average Speed   Time    Time     Time  Current\n",
            "                                 Dload  Upload   Total   Spent    Left  Speed\n",
            "\r  0     0    0     0    0     0      0      0 --:--:-- --:--:-- --:--:--     0\r100  2537  100  2537    0     0  61878      0 --:--:-- --:--:-- --:--:-- 61878\n",
            "OK\n",
            "71 packages can be upgraded. Run 'apt list --upgradable' to see them.\n",
            "The following package was automatically installed and is no longer required:\n",
            "  libnvidia-common-460\n",
            "Use 'apt autoremove' to remove it.\n",
            "The following NEW packages will be installed:\n",
            "  gcsfuse\n",
            "0 upgraded, 1 newly installed, 0 to remove and 71 not upgraded.\n",
            "Need to get 11.6 MB of archives.\n",
            "After this operation, 27.4 MB of additional disk space will be used.\n",
            "Selecting previously unselected package gcsfuse.\n",
            "(Reading database ... 155653 files and directories currently installed.)\n",
            "Preparing to unpack .../gcsfuse_0.41.4_amd64.deb ...\n",
            "Unpacking gcsfuse (0.41.4) ...\n",
            "Setting up gcsfuse (0.41.4) ...\n"
          ]
        }
      ]
    },
    {
      "cell_type": "markdown",
      "source": [
        "## Nome/caminho do arquivo json contendo credenciais de acesso ao storage do Google"
      ],
      "metadata": {
        "id": "Leik8iOrceAZ"
      }
    },
    {
      "cell_type": "code",
      "source": [
        "serice_account_json = '/content/gcp-leitura.json'"
      ],
      "metadata": {
        "id": "Xm0oBdhVI47r"
      },
      "execution_count": 4,
      "outputs": []
    },
    {
      "cell_type": "markdown",
      "metadata": {
        "id": "1dhsmK5a_Gek"
      },
      "source": [
        "## Montagem do bucket em uma pasta local do google colab"
      ]
    },
    {
      "cell_type": "code",
      "metadata": {
        "colab": {
          "base_uri": "https://localhost:8080/"
        },
        "id": "WUF134Mt-y4d",
        "outputId": "ec8645d7-ef71-40ae-80c7-cec1f11931a5"
      },
      "source": [
        "!mkdir {local_folder_name}\n",
        "!gcsfuse --key-file {serice_account_json} --implicit-dirs {bucket_id} {local_folder_name}"
      ],
      "execution_count": 5,
      "outputs": [
        {
          "output_type": "stream",
          "name": "stdout",
          "text": [
            "mkdir: cannot create directory ‘colab’: File exists\n",
            "2022/07/28 10:55:44.710291 Start gcsfuse/0.41.4 (Go version go1.17.6) for app \"\" using mount point: /content/colab\n",
            "2022/07/28 10:55:44.726460 Opening GCS connection...\n",
            "2022/07/28 10:55:45.127626 Mounting file system \"observatorio-oncologia\"...\n",
            "2022/07/28 10:55:45.165279 File system has been successfully mounted.\n"
          ]
        }
      ]
    },
    {
      "cell_type": "markdown",
      "source": [
        "## Função para facilitar coleta de arquivo"
      ],
      "metadata": {
        "id": "CeYSqEhKcwDC"
      }
    },
    {
      "cell_type": "code",
      "source": [
        "import glob\n",
        "import os\n",
        "\n",
        "def get_files(state, year, month, file_type, file_group):\n",
        "    initial_path = os.path.join(r'/content/',local_folder_name,project_folder_name)\n",
        "    internal_folder = f\"\"\"{state}/{year}/{month}/{file_type}/{file_group}\"\"\"\n",
        "    # print(f\"{initial_path}/{internal_folder}/*.parquet.gzip\")\n",
        "    return glob.glob(f\"{initial_path}/{internal_folder}/*.parquet.gzip\")    "
      ],
      "metadata": {
        "id": "rRWGqdIUY7nr"
      },
      "execution_count": 6,
      "outputs": []
    },
    {
      "cell_type": "markdown",
      "source": [
        "# SIA PA: Análise exploratória"
      ],
      "metadata": {
        "id": "pHS-5WCngIHY"
      }
    },
    {
      "cell_type": "markdown",
      "source": [
        "## Informações sobre filtros pertinentes ao contexto de câncer de mama:\n",
        "\n",
        "### SIH: realizar filtro através da variável DIAG_PRINC (4 caracteres)\n",
        " * Filtro: C500, C501, C502, C503, C504, C505, C506, C508 e C509\n",
        "\n",
        "### RHC: realizar filtro através da variável LOCTUDET (3 caracteres)\n",
        " * Filtro: C50\n",
        "\n",
        "### SIA – APAC de Quimioterapia e Radioterapia (AQ e AR)\n",
        "Realizar filtro através da variável AP_CIDPRI (4 caracteres)\n",
        " * Filtro: C500, C501, C502, C503, C504, C505, C506, C508 e C509\n",
        "\n",
        "### SIA – Procedimentos ambulatoriais (PA)\n",
        "\n",
        "Os arquivos de procedimentos ambulatoriais são um pouco diferentes por um motivo: a pessoa já pode ter o diagnóstico e está realizando um procedimento OU a pessoa está realizando um exame com finalidade diagnóstica (mamografia, ultrassonografia, etc). Então, neste caso, podemos pensar em dois filtros:\n",
        "\n",
        "Realizar filtro através da variável PA_CIDPRI (4 caracteres)\n",
        " * Filtro: C500, C501, C502, C503, C504, C505, C506, C508 e C509\n",
        "\n",
        "Realizar filtro através da variável do código de procedimento ambulatorial “PA_PROC_ID” (10 caracteres)\n",
        " * Filtros:\n",
        "  * 201010569\tBIOPSIA/EXERESE DE NÓDULO DE MAMA\n",
        "  * 201010585\tPUNÇÃO ASPIRATIVA DE MAMA POR AGULHA FINA\n",
        "  * 201010607\tPUNÇÃO DE MAMA POR AGULHA GROSSA\n",
        "  * 203010035\tEXAME DE CITOLOGIA (EXCETO CERVICO-VAGINAL E DE MAMA)\n",
        "  * 203010043\tEXAME CITOPATOLOGICO DE MAMA\n",
        "  * 203020065\tEXAME ANATOMOPATOLOGICO DE MAMA - BIOPSIA\n",
        "  * 203020073\tEXAME ANATOMOPATOLOGICO DE MAMA - PECA CIRURGICA\n",
        "  * 205020097\tULTRASSONOGRAFIA MAMARIA BILATERAL\n",
        "  * 208090037\tCINTILOGRAFIA DE MAMA (BILATERAL)\n",
        "  * 204030030\tMAMOGRAFIA\n",
        "  * 204030188\tMAMOGRAFIA BILATERAL PARA RASTREAMENTO"
      ],
      "metadata": {
        "id": "XA0TpF6Gc3u9"
      }
    },
    {
      "cell_type": "markdown",
      "source": [
        "## Bibliotecas utilizadas na análise exploratória"
      ],
      "metadata": {
        "id": "c07ydk4ag432"
      }
    },
    {
      "cell_type": "code",
      "source": [
        "import pandas as pd\n",
        "import numpy as np "
      ],
      "metadata": {
        "id": "mUmzW3NXg-z1"
      },
      "execution_count": 8,
      "outputs": []
    },
    {
      "cell_type": "markdown",
      "source": [
        "## Variáveis de filtro"
      ],
      "metadata": {
        "id": "rN4lZn1reIaN"
      }
    },
    {
      "cell_type": "code",
      "source": [
        "# filtro pelo cid\n",
        "cid_filter = ['C500', 'C501', 'C502', 'C503', 'C504', 'C505', 'C506', 'C508', 'C509']\n",
        "\n",
        "# dicionario de procedimentos\n",
        "proc_id_dict = {\n",
        "    '0201010569': 'BIOPSIA/EXERESE DE NÓDULO DE MAMA',\n",
        "    '0201010585': 'PUNÇÃO ASPIRATIVA DE MAMA POR AGULHA FINA',\n",
        "    '0201010607': 'PUNÇÃO DE MAMA POR AGULHA GROSSA',\n",
        "    '0203010035': 'EXAME DE CITOLOGIA (EXCETO CERVICO-VAGINAL E DE MAMA)',\n",
        "    '0203010043': 'EXAME CITOPATOLOGICO DE MAMA',\n",
        "    '0203020065': 'EXAME ANATOMOPATOLOGICO DE MAMA - BIOPSIA',\n",
        "    '0203020073': 'EXAME ANATOMOPATOLOGICO DE MAMA - PECA CIRURGICA',\n",
        "    '0205020097': 'ULTRASSONOGRAFIA MAMARIA BILATERAL',\n",
        "    '0208090037': 'CINTILOGRAFIA DE MAMA (BILATERAL)',\n",
        "    '0204030030': 'MAMOGRAFIA',\n",
        "    '0204030188': 'MAMOGRAFIA BILATERAL PARA RASTREAMENTO'\n",
        "    }\n",
        "proc_id_filter = list(proc_id_dict.keys())\n"
      ],
      "metadata": {
        "id": "Pl1XPDBheHFR"
      },
      "execution_count": 19,
      "outputs": []
    },
    {
      "cell_type": "markdown",
      "source": [
        "## Função de filtro para arquivo SIA PA"
      ],
      "metadata": {
        "id": "lPnM16Mngb_o"
      }
    },
    {
      "cell_type": "code",
      "source": [
        "def filter_cancer_content(df):\n",
        "    \"\"\"\n",
        "\n",
        "    \"\"\"\n",
        "    return df[df.PA_CIDPRI.isin(cid_filter) & \\\n",
        "              df.PA_PROC_ID.isin(proc_id_filter)]"
      ],
      "metadata": {
        "id": "DuP3uqOXgbhf"
      },
      "execution_count": 21,
      "outputs": []
    },
    {
      "cell_type": "markdown",
      "source": [
        "## SIA PA: Teste de leitura de arquivo e erificação de colunas"
      ],
      "metadata": {
        "id": "6S-hjI9udMtM"
      }
    },
    {
      "cell_type": "markdown",
      "source": [
        ""
      ],
      "metadata": {
        "id": "9ar53dWEh4yM"
      }
    },
    {
      "cell_type": "code",
      "source": [
        "file_paths = get_files('SP','2014','05','SIA','PA')\n",
        "file_paths"
      ],
      "metadata": {
        "colab": {
          "base_uri": "https://localhost:8080/"
        },
        "id": "NNoipA4fO1rH",
        "outputId": "55dc5183-ef9c-46ea-9e5d-f319e763a0b9"
      },
      "execution_count": 9,
      "outputs": [
        {
          "output_type": "execute_result",
          "data": {
            "text/plain": [
              "['/content/colab/monitor/SP/2014/05/SIA/PA/PASP1405a.parquet.gzip',\n",
              " '/content/colab/monitor/SP/2014/05/SIA/PA/PASP1405b.parquet.gzip']"
            ]
          },
          "metadata": {},
          "execution_count": 9
        }
      ]
    },
    {
      "cell_type": "code",
      "metadata": {
        "colab": {
          "base_uri": "https://localhost:8080/"
        },
        "id": "G25snj6ghnwl",
        "outputId": "d58bc378-049f-4745-c3bc-151d3476ecf9"
      },
      "source": [
        "df = pd.read_parquet(file_paths[1])\n",
        "df.info()"
      ],
      "execution_count": 11,
      "outputs": [
        {
          "output_type": "stream",
          "name": "stdout",
          "text": [
            "<class 'pandas.core.frame.DataFrame'>\n",
            "RangeIndex: 3924906 entries, 0 to 3924905\n",
            "Data columns (total 58 columns):\n",
            " #   Column      Dtype \n",
            "---  ------      ----- \n",
            " 0   PA_CODUNI   object\n",
            " 1   PA_GESTAO   object\n",
            " 2   PA_CONDIC   object\n",
            " 3   PA_UFMUN    object\n",
            " 4   PA_REGCT    object\n",
            " 5   PA_INCOUT   object\n",
            " 6   PA_INCURG   object\n",
            " 7   PA_TPUPS    object\n",
            " 8   PA_TIPPRE   object\n",
            " 9   PA_MN_IND   object\n",
            " 10  PA_CNPJCPF  object\n",
            " 11  PA_CNPJMNT  object\n",
            " 12  PA_CNPJ_CC  object\n",
            " 13  PA_MVM      object\n",
            " 14  PA_CMP      object\n",
            " 15  PA_PROC_ID  object\n",
            " 16  PA_TPFIN    object\n",
            " 17  PA_SUBFIN   object\n",
            " 18  PA_NIVCPL   object\n",
            " 19  PA_DOCORIG  object\n",
            " 20  PA_AUTORIZ  object\n",
            " 21  PA_CNSMED   object\n",
            " 22  PA_CBOCOD   object\n",
            " 23  PA_MOTSAI   object\n",
            " 24  PA_OBITO    object\n",
            " 25  PA_ENCERR   object\n",
            " 26  PA_PERMAN   object\n",
            " 27  PA_ALTA     object\n",
            " 28  PA_TRANSF   object\n",
            " 29  PA_CIDPRI   object\n",
            " 30  PA_CIDSEC   object\n",
            " 31  PA_CIDCAS   object\n",
            " 32  PA_CATEND   object\n",
            " 33  PA_IDADE    object\n",
            " 34  IDADEMIN    object\n",
            " 35  IDADEMAX    object\n",
            " 36  PA_FLIDADE  object\n",
            " 37  PA_SEXO     object\n",
            " 38  PA_RACACOR  object\n",
            " 39  PA_MUNPCN   object\n",
            " 40  PA_QTDPRO   object\n",
            " 41  PA_QTDAPR   object\n",
            " 42  PA_VALPRO   object\n",
            " 43  PA_VALAPR   object\n",
            " 44  PA_UFDIF    object\n",
            " 45  PA_MNDIF    object\n",
            " 46  PA_DIF_VAL  object\n",
            " 47  NU_VPA_TOT  object\n",
            " 48  NU_PA_TOT   object\n",
            " 49  PA_INDICA   object\n",
            " 50  PA_CODOCO   object\n",
            " 51  PA_FLQT     object\n",
            " 52  PA_FLER     object\n",
            " 53  PA_ETNIA    object\n",
            " 54  PA_VL_CF    object\n",
            " 55  PA_VL_CL    object\n",
            " 56  PA_VL_INC   object\n",
            " 57  PA_SRV_C    object\n",
            "dtypes: object(58)\n",
            "memory usage: 1.7+ GB\n"
          ]
        }
      ]
    },
    {
      "cell_type": "code",
      "metadata": {
        "id": "Ile6rfW8DOxZ",
        "colab": {
          "base_uri": "https://localhost:8080/",
          "height": 487
        },
        "outputId": "a37117e6-da18-46ee-ec09-13b733ef7cc6"
      },
      "source": [
        "filter_cancer_content(df)"
      ],
      "execution_count": 22,
      "outputs": [
        {
          "output_type": "execute_result",
          "data": {
            "text/plain": [
              "        PA_CODUNI PA_GESTAO PA_CONDIC PA_UFMUN PA_REGCT PA_INCOUT PA_INCURG  \\\n",
              "308898    6697313    351880        PG   351880     0000      0000      0000   \n",
              "309089    6697313    351880        PG   351880     0000      0000      0000   \n",
              "413124    2038463    350635        PG   350635     0000      0000      0000   \n",
              "413130    2038463    350635        PG   350635     0000      0000      0000   \n",
              "413133    2038463    350635        PG   350635     0000      0000      0000   \n",
              "...           ...       ...       ...      ...      ...       ...       ...   \n",
              "3922302   2083116    352900        PG   352900     0000      0000      0000   \n",
              "3922508   2035081    354870        PG   354870     0000      0000      0000   \n",
              "3922529   2027356    354870        PG   354870     0000      0000      0000   \n",
              "3924127   2077590    355030        MN   355030     7101      0000      0000   \n",
              "3924704   2788950    355030        MN   355030     0000      0000      0000   \n",
              "\n",
              "        PA_TPUPS PA_TIPPRE PA_MN_IND  ... NU_PA_TOT PA_INDICA PA_CODOCO  \\\n",
              "308898        39        20         M  ...      24.0         5         1   \n",
              "309089        39        20         M  ...      24.0         5         1   \n",
              "413124        02        50         M  ...      24.2         5         1   \n",
              "413130        02        50         M  ...      24.2         5         1   \n",
              "413133        02        50         M  ...      24.2         5         1   \n",
              "...          ...       ...       ...  ...       ...       ...       ...   \n",
              "3922302       05        61         I  ...     68.43         5         1   \n",
              "3922508       62        50         M  ...     68.43         5         1   \n",
              "3922529       05        50         M  ...     68.43         5         1   \n",
              "3924127       07        61         I  ...      24.0         5         1   \n",
              "3924704       02        50         M  ...      24.2         5         1   \n",
              "\n",
              "        PA_FLQT PA_FLER PA_ETNIA PA_VL_CF PA_VL_CL PA_VL_INC PA_SRV_C  \n",
              "308898        K       0               0.0      0.0       0.0           \n",
              "309089        K       0               0.0      0.0       0.0           \n",
              "413124        K       0               0.0      0.0       0.0           \n",
              "413130        K       0               0.0      0.0       0.0           \n",
              "413133        K       0               0.0      0.0       0.0           \n",
              "...         ...     ...      ...      ...      ...       ...      ...  \n",
              "3922302       K       0               0.0      0.0       0.0           \n",
              "3922508       S       0               0.0      0.0       0.0           \n",
              "3922529       R       0               0.0      0.0       0.0           \n",
              "3924127       R       0               0.0      0.0       0.0           \n",
              "3924704       K       0               0.0      0.0       0.0           \n",
              "\n",
              "[957 rows x 58 columns]"
            ],
            "text/html": [
              "\n",
              "  <div id=\"df-fd399d5b-4220-4604-b2e8-6cf0ba9d8903\">\n",
              "    <div class=\"colab-df-container\">\n",
              "      <div>\n",
              "<style scoped>\n",
              "    .dataframe tbody tr th:only-of-type {\n",
              "        vertical-align: middle;\n",
              "    }\n",
              "\n",
              "    .dataframe tbody tr th {\n",
              "        vertical-align: top;\n",
              "    }\n",
              "\n",
              "    .dataframe thead th {\n",
              "        text-align: right;\n",
              "    }\n",
              "</style>\n",
              "<table border=\"1\" class=\"dataframe\">\n",
              "  <thead>\n",
              "    <tr style=\"text-align: right;\">\n",
              "      <th></th>\n",
              "      <th>PA_CODUNI</th>\n",
              "      <th>PA_GESTAO</th>\n",
              "      <th>PA_CONDIC</th>\n",
              "      <th>PA_UFMUN</th>\n",
              "      <th>PA_REGCT</th>\n",
              "      <th>PA_INCOUT</th>\n",
              "      <th>PA_INCURG</th>\n",
              "      <th>PA_TPUPS</th>\n",
              "      <th>PA_TIPPRE</th>\n",
              "      <th>PA_MN_IND</th>\n",
              "      <th>...</th>\n",
              "      <th>NU_PA_TOT</th>\n",
              "      <th>PA_INDICA</th>\n",
              "      <th>PA_CODOCO</th>\n",
              "      <th>PA_FLQT</th>\n",
              "      <th>PA_FLER</th>\n",
              "      <th>PA_ETNIA</th>\n",
              "      <th>PA_VL_CF</th>\n",
              "      <th>PA_VL_CL</th>\n",
              "      <th>PA_VL_INC</th>\n",
              "      <th>PA_SRV_C</th>\n",
              "    </tr>\n",
              "  </thead>\n",
              "  <tbody>\n",
              "    <tr>\n",
              "      <th>308898</th>\n",
              "      <td>6697313</td>\n",
              "      <td>351880</td>\n",
              "      <td>PG</td>\n",
              "      <td>351880</td>\n",
              "      <td>0000</td>\n",
              "      <td>0000</td>\n",
              "      <td>0000</td>\n",
              "      <td>39</td>\n",
              "      <td>20</td>\n",
              "      <td>M</td>\n",
              "      <td>...</td>\n",
              "      <td>24.0</td>\n",
              "      <td>5</td>\n",
              "      <td>1</td>\n",
              "      <td>K</td>\n",
              "      <td>0</td>\n",
              "      <td></td>\n",
              "      <td>0.0</td>\n",
              "      <td>0.0</td>\n",
              "      <td>0.0</td>\n",
              "      <td></td>\n",
              "    </tr>\n",
              "    <tr>\n",
              "      <th>309089</th>\n",
              "      <td>6697313</td>\n",
              "      <td>351880</td>\n",
              "      <td>PG</td>\n",
              "      <td>351880</td>\n",
              "      <td>0000</td>\n",
              "      <td>0000</td>\n",
              "      <td>0000</td>\n",
              "      <td>39</td>\n",
              "      <td>20</td>\n",
              "      <td>M</td>\n",
              "      <td>...</td>\n",
              "      <td>24.0</td>\n",
              "      <td>5</td>\n",
              "      <td>1</td>\n",
              "      <td>K</td>\n",
              "      <td>0</td>\n",
              "      <td></td>\n",
              "      <td>0.0</td>\n",
              "      <td>0.0</td>\n",
              "      <td>0.0</td>\n",
              "      <td></td>\n",
              "    </tr>\n",
              "    <tr>\n",
              "      <th>413124</th>\n",
              "      <td>2038463</td>\n",
              "      <td>350635</td>\n",
              "      <td>PG</td>\n",
              "      <td>350635</td>\n",
              "      <td>0000</td>\n",
              "      <td>0000</td>\n",
              "      <td>0000</td>\n",
              "      <td>02</td>\n",
              "      <td>50</td>\n",
              "      <td>M</td>\n",
              "      <td>...</td>\n",
              "      <td>24.2</td>\n",
              "      <td>5</td>\n",
              "      <td>1</td>\n",
              "      <td>K</td>\n",
              "      <td>0</td>\n",
              "      <td></td>\n",
              "      <td>0.0</td>\n",
              "      <td>0.0</td>\n",
              "      <td>0.0</td>\n",
              "      <td></td>\n",
              "    </tr>\n",
              "    <tr>\n",
              "      <th>413130</th>\n",
              "      <td>2038463</td>\n",
              "      <td>350635</td>\n",
              "      <td>PG</td>\n",
              "      <td>350635</td>\n",
              "      <td>0000</td>\n",
              "      <td>0000</td>\n",
              "      <td>0000</td>\n",
              "      <td>02</td>\n",
              "      <td>50</td>\n",
              "      <td>M</td>\n",
              "      <td>...</td>\n",
              "      <td>24.2</td>\n",
              "      <td>5</td>\n",
              "      <td>1</td>\n",
              "      <td>K</td>\n",
              "      <td>0</td>\n",
              "      <td></td>\n",
              "      <td>0.0</td>\n",
              "      <td>0.0</td>\n",
              "      <td>0.0</td>\n",
              "      <td></td>\n",
              "    </tr>\n",
              "    <tr>\n",
              "      <th>413133</th>\n",
              "      <td>2038463</td>\n",
              "      <td>350635</td>\n",
              "      <td>PG</td>\n",
              "      <td>350635</td>\n",
              "      <td>0000</td>\n",
              "      <td>0000</td>\n",
              "      <td>0000</td>\n",
              "      <td>02</td>\n",
              "      <td>50</td>\n",
              "      <td>M</td>\n",
              "      <td>...</td>\n",
              "      <td>24.2</td>\n",
              "      <td>5</td>\n",
              "      <td>1</td>\n",
              "      <td>K</td>\n",
              "      <td>0</td>\n",
              "      <td></td>\n",
              "      <td>0.0</td>\n",
              "      <td>0.0</td>\n",
              "      <td>0.0</td>\n",
              "      <td></td>\n",
              "    </tr>\n",
              "    <tr>\n",
              "      <th>...</th>\n",
              "      <td>...</td>\n",
              "      <td>...</td>\n",
              "      <td>...</td>\n",
              "      <td>...</td>\n",
              "      <td>...</td>\n",
              "      <td>...</td>\n",
              "      <td>...</td>\n",
              "      <td>...</td>\n",
              "      <td>...</td>\n",
              "      <td>...</td>\n",
              "      <td>...</td>\n",
              "      <td>...</td>\n",
              "      <td>...</td>\n",
              "      <td>...</td>\n",
              "      <td>...</td>\n",
              "      <td>...</td>\n",
              "      <td>...</td>\n",
              "      <td>...</td>\n",
              "      <td>...</td>\n",
              "      <td>...</td>\n",
              "      <td>...</td>\n",
              "    </tr>\n",
              "    <tr>\n",
              "      <th>3922302</th>\n",
              "      <td>2083116</td>\n",
              "      <td>352900</td>\n",
              "      <td>PG</td>\n",
              "      <td>352900</td>\n",
              "      <td>0000</td>\n",
              "      <td>0000</td>\n",
              "      <td>0000</td>\n",
              "      <td>05</td>\n",
              "      <td>61</td>\n",
              "      <td>I</td>\n",
              "      <td>...</td>\n",
              "      <td>68.43</td>\n",
              "      <td>5</td>\n",
              "      <td>1</td>\n",
              "      <td>K</td>\n",
              "      <td>0</td>\n",
              "      <td></td>\n",
              "      <td>0.0</td>\n",
              "      <td>0.0</td>\n",
              "      <td>0.0</td>\n",
              "      <td></td>\n",
              "    </tr>\n",
              "    <tr>\n",
              "      <th>3922508</th>\n",
              "      <td>2035081</td>\n",
              "      <td>354870</td>\n",
              "      <td>PG</td>\n",
              "      <td>354870</td>\n",
              "      <td>0000</td>\n",
              "      <td>0000</td>\n",
              "      <td>0000</td>\n",
              "      <td>62</td>\n",
              "      <td>50</td>\n",
              "      <td>M</td>\n",
              "      <td>...</td>\n",
              "      <td>68.43</td>\n",
              "      <td>5</td>\n",
              "      <td>1</td>\n",
              "      <td>S</td>\n",
              "      <td>0</td>\n",
              "      <td></td>\n",
              "      <td>0.0</td>\n",
              "      <td>0.0</td>\n",
              "      <td>0.0</td>\n",
              "      <td></td>\n",
              "    </tr>\n",
              "    <tr>\n",
              "      <th>3922529</th>\n",
              "      <td>2027356</td>\n",
              "      <td>354870</td>\n",
              "      <td>PG</td>\n",
              "      <td>354870</td>\n",
              "      <td>0000</td>\n",
              "      <td>0000</td>\n",
              "      <td>0000</td>\n",
              "      <td>05</td>\n",
              "      <td>50</td>\n",
              "      <td>M</td>\n",
              "      <td>...</td>\n",
              "      <td>68.43</td>\n",
              "      <td>5</td>\n",
              "      <td>1</td>\n",
              "      <td>R</td>\n",
              "      <td>0</td>\n",
              "      <td></td>\n",
              "      <td>0.0</td>\n",
              "      <td>0.0</td>\n",
              "      <td>0.0</td>\n",
              "      <td></td>\n",
              "    </tr>\n",
              "    <tr>\n",
              "      <th>3924127</th>\n",
              "      <td>2077590</td>\n",
              "      <td>355030</td>\n",
              "      <td>MN</td>\n",
              "      <td>355030</td>\n",
              "      <td>7101</td>\n",
              "      <td>0000</td>\n",
              "      <td>0000</td>\n",
              "      <td>07</td>\n",
              "      <td>61</td>\n",
              "      <td>I</td>\n",
              "      <td>...</td>\n",
              "      <td>24.0</td>\n",
              "      <td>5</td>\n",
              "      <td>1</td>\n",
              "      <td>R</td>\n",
              "      <td>0</td>\n",
              "      <td></td>\n",
              "      <td>0.0</td>\n",
              "      <td>0.0</td>\n",
              "      <td>0.0</td>\n",
              "      <td></td>\n",
              "    </tr>\n",
              "    <tr>\n",
              "      <th>3924704</th>\n",
              "      <td>2788950</td>\n",
              "      <td>355030</td>\n",
              "      <td>MN</td>\n",
              "      <td>355030</td>\n",
              "      <td>0000</td>\n",
              "      <td>0000</td>\n",
              "      <td>0000</td>\n",
              "      <td>02</td>\n",
              "      <td>50</td>\n",
              "      <td>M</td>\n",
              "      <td>...</td>\n",
              "      <td>24.2</td>\n",
              "      <td>5</td>\n",
              "      <td>1</td>\n",
              "      <td>K</td>\n",
              "      <td>0</td>\n",
              "      <td></td>\n",
              "      <td>0.0</td>\n",
              "      <td>0.0</td>\n",
              "      <td>0.0</td>\n",
              "      <td></td>\n",
              "    </tr>\n",
              "  </tbody>\n",
              "</table>\n",
              "<p>957 rows × 58 columns</p>\n",
              "</div>\n",
              "      <button class=\"colab-df-convert\" onclick=\"convertToInteractive('df-fd399d5b-4220-4604-b2e8-6cf0ba9d8903')\"\n",
              "              title=\"Convert this dataframe to an interactive table.\"\n",
              "              style=\"display:none;\">\n",
              "        \n",
              "  <svg xmlns=\"http://www.w3.org/2000/svg\" height=\"24px\"viewBox=\"0 0 24 24\"\n",
              "       width=\"24px\">\n",
              "    <path d=\"M0 0h24v24H0V0z\" fill=\"none\"/>\n",
              "    <path d=\"M18.56 5.44l.94 2.06.94-2.06 2.06-.94-2.06-.94-.94-2.06-.94 2.06-2.06.94zm-11 1L8.5 8.5l.94-2.06 2.06-.94-2.06-.94L8.5 2.5l-.94 2.06-2.06.94zm10 10l.94 2.06.94-2.06 2.06-.94-2.06-.94-.94-2.06-.94 2.06-2.06.94z\"/><path d=\"M17.41 7.96l-1.37-1.37c-.4-.4-.92-.59-1.43-.59-.52 0-1.04.2-1.43.59L10.3 9.45l-7.72 7.72c-.78.78-.78 2.05 0 2.83L4 21.41c.39.39.9.59 1.41.59.51 0 1.02-.2 1.41-.59l7.78-7.78 2.81-2.81c.8-.78.8-2.07 0-2.86zM5.41 20L4 18.59l7.72-7.72 1.47 1.35L5.41 20z\"/>\n",
              "  </svg>\n",
              "      </button>\n",
              "      \n",
              "  <style>\n",
              "    .colab-df-container {\n",
              "      display:flex;\n",
              "      flex-wrap:wrap;\n",
              "      gap: 12px;\n",
              "    }\n",
              "\n",
              "    .colab-df-convert {\n",
              "      background-color: #E8F0FE;\n",
              "      border: none;\n",
              "      border-radius: 50%;\n",
              "      cursor: pointer;\n",
              "      display: none;\n",
              "      fill: #1967D2;\n",
              "      height: 32px;\n",
              "      padding: 0 0 0 0;\n",
              "      width: 32px;\n",
              "    }\n",
              "\n",
              "    .colab-df-convert:hover {\n",
              "      background-color: #E2EBFA;\n",
              "      box-shadow: 0px 1px 2px rgba(60, 64, 67, 0.3), 0px 1px 3px 1px rgba(60, 64, 67, 0.15);\n",
              "      fill: #174EA6;\n",
              "    }\n",
              "\n",
              "    [theme=dark] .colab-df-convert {\n",
              "      background-color: #3B4455;\n",
              "      fill: #D2E3FC;\n",
              "    }\n",
              "\n",
              "    [theme=dark] .colab-df-convert:hover {\n",
              "      background-color: #434B5C;\n",
              "      box-shadow: 0px 1px 3px 1px rgba(0, 0, 0, 0.15);\n",
              "      filter: drop-shadow(0px 1px 2px rgba(0, 0, 0, 0.3));\n",
              "      fill: #FFFFFF;\n",
              "    }\n",
              "  </style>\n",
              "\n",
              "      <script>\n",
              "        const buttonEl =\n",
              "          document.querySelector('#df-fd399d5b-4220-4604-b2e8-6cf0ba9d8903 button.colab-df-convert');\n",
              "        buttonEl.style.display =\n",
              "          google.colab.kernel.accessAllowed ? 'block' : 'none';\n",
              "\n",
              "        async function convertToInteractive(key) {\n",
              "          const element = document.querySelector('#df-fd399d5b-4220-4604-b2e8-6cf0ba9d8903');\n",
              "          const dataTable =\n",
              "            await google.colab.kernel.invokeFunction('convertToInteractive',\n",
              "                                                     [key], {});\n",
              "          if (!dataTable) return;\n",
              "\n",
              "          const docLinkHtml = 'Like what you see? Visit the ' +\n",
              "            '<a target=\"_blank\" href=https://colab.research.google.com/notebooks/data_table.ipynb>data table notebook</a>'\n",
              "            + ' to learn more about interactive tables.';\n",
              "          element.innerHTML = '';\n",
              "          dataTable['output_type'] = 'display_data';\n",
              "          await google.colab.output.renderOutput(dataTable, element);\n",
              "          const docLink = document.createElement('div');\n",
              "          docLink.innerHTML = docLinkHtml;\n",
              "          element.appendChild(docLink);\n",
              "        }\n",
              "      </script>\n",
              "    </div>\n",
              "  </div>\n",
              "  "
            ]
          },
          "metadata": {},
          "execution_count": 22
        }
      ]
    },
    {
      "cell_type": "code",
      "source": [
        "df.PA_PROC_ID"
      ],
      "metadata": {
        "colab": {
          "base_uri": "https://localhost:8080/"
        },
        "id": "sErA1K-oigU0",
        "outputId": "7bc48d2f-0b52-4b19-8db6-c152b2073315"
      },
      "execution_count": 18,
      "outputs": [
        {
          "output_type": "execute_result",
          "data": {
            "text/plain": [
              "0          0202010694\n",
              "1          0202010210\n",
              "2          0202010694\n",
              "3          0305010107\n",
              "4          0202010694\n",
              "              ...    \n",
              "3924901    0205020097\n",
              "3924902    0205020143\n",
              "3924903    0211060259\n",
              "3924904    0302050019\n",
              "3924905    0205020143\n",
              "Name: PA_PROC_ID, Length: 3924906, dtype: object"
            ]
          },
          "metadata": {},
          "execution_count": 18
        }
      ]
    },
    {
      "cell_type": "code",
      "source": [
        ""
      ],
      "metadata": {
        "id": "wAIWTqOUjQNh"
      },
      "execution_count": null,
      "outputs": []
    }
  ]
}